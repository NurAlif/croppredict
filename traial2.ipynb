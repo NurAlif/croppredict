{
 "cells": [
  {
   "cell_type": "code",
   "execution_count": 9,
   "metadata": {},
   "outputs": [],
   "source": [
    "import tensorflow as tf\n",
    "import numpy as np\n",
    "import pandas as pd\n",
    "import altair as alt\n",
    "import json\n",
    "# SingaporehasfallenBambangg11 864869"
   ]
  },
  {
   "cell_type": "code",
   "execution_count": 6,
   "metadata": {},
   "outputs": [],
   "source": [
    "labels = [\"apple\",\"banana\",\"blackgram\",\"chickpea\",\"coconut\",\"coffee\",\"cotton\",\"grapes\",\"jute\",\"kidneybeans\",\"lentil\",\"maize\",\"mango\",\"mothbeans\",\"mungbean\",\"muskmelon\",\"orange\",\"papaya\",\"pigeonpeas\",\"pomegranate\",\"rice\",\"watermelon\"]"
   ]
  },
  {
   "cell_type": "code",
   "execution_count": 2,
   "metadata": {},
   "outputs": [],
   "source": [
    "loaded_model = tf.keras.models.load_model(\"lstm.h5\")"
   ]
  },
  {
   "cell_type": "code",
   "execution_count": 5,
   "metadata": {},
   "outputs": [],
   "source": [
    "data = np.array([85,58,41,21.77,80.31,7.03,226.65])\n",
    "data = data.reshape(1, 7, 1)\n",
    "result = loaded_model.predict(data)"
   ]
  },
  {
   "cell_type": "code",
   "execution_count": 11,
   "metadata": {},
   "outputs": [
    {
     "data": {
      "text/html": [
       "\n",
       "<div id=\"altair-viz-cf6bb080d5fc481d9f8f90c332f25b09\"></div>\n",
       "<script type=\"text/javascript\">\n",
       "  var VEGA_DEBUG = (typeof VEGA_DEBUG == \"undefined\") ? {} : VEGA_DEBUG;\n",
       "  (function(spec, embedOpt){\n",
       "    let outputDiv = document.currentScript.previousElementSibling;\n",
       "    if (outputDiv.id !== \"altair-viz-cf6bb080d5fc481d9f8f90c332f25b09\") {\n",
       "      outputDiv = document.getElementById(\"altair-viz-cf6bb080d5fc481d9f8f90c332f25b09\");\n",
       "    }\n",
       "    const paths = {\n",
       "      \"vega\": \"https://cdn.jsdelivr.net/npm//vega@5?noext\",\n",
       "      \"vega-lib\": \"https://cdn.jsdelivr.net/npm//vega-lib?noext\",\n",
       "      \"vega-lite\": \"https://cdn.jsdelivr.net/npm//vega-lite@4.17.0?noext\",\n",
       "      \"vega-embed\": \"https://cdn.jsdelivr.net/npm//vega-embed@6?noext\",\n",
       "    };\n",
       "\n",
       "    function maybeLoadScript(lib, version) {\n",
       "      var key = `${lib.replace(\"-\", \"\")}_version`;\n",
       "      return (VEGA_DEBUG[key] == version) ?\n",
       "        Promise.resolve(paths[lib]) :\n",
       "        new Promise(function(resolve, reject) {\n",
       "          var s = document.createElement('script');\n",
       "          document.getElementsByTagName(\"head\")[0].appendChild(s);\n",
       "          s.async = true;\n",
       "          s.onload = () => {\n",
       "            VEGA_DEBUG[key] = version;\n",
       "            return resolve(paths[lib]);\n",
       "          };\n",
       "          s.onerror = () => reject(`Error loading script: ${paths[lib]}`);\n",
       "          s.src = paths[lib];\n",
       "        });\n",
       "    }\n",
       "\n",
       "    function showError(err) {\n",
       "      outputDiv.innerHTML = `<div class=\"error\" style=\"color:red;\">${err}</div>`;\n",
       "      throw err;\n",
       "    }\n",
       "\n",
       "    function displayChart(vegaEmbed) {\n",
       "      vegaEmbed(outputDiv, spec, embedOpt)\n",
       "        .catch(err => showError(`Javascript Error: ${err.message}<br>This usually means there's a typo in your chart specification. See the javascript console for the full traceback.`));\n",
       "    }\n",
       "\n",
       "    if(typeof define === \"function\" && define.amd) {\n",
       "      requirejs.config({paths});\n",
       "      require([\"vega-embed\"], displayChart, err => showError(`Error loading script: ${err.message}`));\n",
       "    } else {\n",
       "      maybeLoadScript(\"vega\", \"5\")\n",
       "        .then(() => maybeLoadScript(\"vega-lite\", \"4.17.0\"))\n",
       "        .then(() => maybeLoadScript(\"vega-embed\", \"6\"))\n",
       "        .catch(showError)\n",
       "        .then(() => displayChart(vegaEmbed));\n",
       "    }\n",
       "  })({\"config\": {\"view\": {\"continuousWidth\": 400, \"continuousHeight\": 300}}, \"data\": {\"name\": \"data-b8d0a46e36b370449ad85d7bd0e8ceee\"}, \"mark\": \"bar\", \"encoding\": {\"x\": {\"field\": \"data\", \"title\": \"Probability\", \"type\": \"quantitative\"}, \"y\": {\"field\": \"labels\", \"title\": \" \", \"type\": \"nominal\"}}, \"$schema\": \"https://vega.github.io/schema/vega-lite/v4.17.0.json\", \"datasets\": {\"data-b8d0a46e36b370449ad85d7bd0e8ceee\": [{\"labels\": \"apple\", \"data\": 1.0168215228145705e-11}, {\"labels\": \"banana\", \"data\": 3.5356026728550205e-06}, {\"labels\": \"blackgram\", \"data\": 1.8079799810055697e-12}, {\"labels\": \"chickpea\", \"data\": 4.035613798691884e-08}, {\"labels\": \"coconut\", \"data\": 3.801397241431914e-08}, {\"labels\": \"coffee\", \"data\": 1.3437836399177172e-09}, {\"labels\": \"cotton\", \"data\": 4.6203795997512564e-12}, {\"labels\": \"grapes\", \"data\": 4.2812038358874815e-09}, {\"labels\": \"jute\", \"data\": 0.003562274621799588}, {\"labels\": \"kidneybeans\", \"data\": 1.0551766127520068e-09}, {\"labels\": \"lentil\", \"data\": 1.682640355174514e-12}, {\"labels\": \"maize\", \"data\": 1.650145122766844e-07}, {\"labels\": \"mango\", \"data\": 2.5249586865783158e-09}, {\"labels\": \"mothbeans\", \"data\": 2.9239680338424834e-13}, {\"labels\": \"mungbean\", \"data\": 7.348710398882852e-13}, {\"labels\": \"muskmelon\", \"data\": 7.992153427949233e-08}, {\"labels\": \"orange\", \"data\": 3.1340506578825256e-11}, {\"labels\": \"papaya\", \"data\": 5.603621389127511e-08}, {\"labels\": \"pigeonpeas\", \"data\": 8.114288130300906e-10}, {\"labels\": \"pomegranate\", \"data\": 8.875290546939141e-08}, {\"labels\": \"rice\", \"data\": 0.9964337348937988}, {\"labels\": \"watermelon\", \"data\": 8.034604204827309e-14}]}}, {\"mode\": \"vega-lite\"});\n",
       "</script>"
      ],
      "text/plain": [
       "alt.Chart(...)"
      ]
     },
     "execution_count": 11,
     "metadata": {},
     "output_type": "execute_result"
    }
   ],
   "source": [
    "df = pd.DataFrame({'labels': labels, 'data':result[0]})\n",
    "\n",
    "alt.Chart(df).mark_bar().encode(\n",
    "        x=alt.X(\"data\", title=\"Probability\"),\n",
    "        y=alt.Y(\"labels\", title=\" \")\n",
    "    )\n",
    "                "
   ]
  }
 ],
 "metadata": {
  "kernelspec": {
   "display_name": "Python 3.9.12 ('base')",
   "language": "python",
   "name": "python3"
  },
  "language_info": {
   "codemirror_mode": {
    "name": "ipython",
    "version": 3
   },
   "file_extension": ".py",
   "mimetype": "text/x-python",
   "name": "python",
   "nbconvert_exporter": "python",
   "pygments_lexer": "ipython3",
   "version": "3.9.12"
  },
  "orig_nbformat": 4,
  "vscode": {
   "interpreter": {
    "hash": "ad2bdc8ecc057115af97d19610ffacc2b4e99fae6737bb82f5d7fb13d2f2c186"
   }
  }
 },
 "nbformat": 4,
 "nbformat_minor": 2
}
