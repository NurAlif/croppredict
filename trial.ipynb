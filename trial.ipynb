{
 "cells": [
  {
   "cell_type": "code",
   "execution_count": null,
   "metadata": {},
   "outputs": [],
   "source": [
    "from __future__ import print_function\n",
    "import numpy as np\n",
    "import matplotlib.pyplot as plt\n",
    "import pickle as pkl\n",
    "import warnings\n",
    "import xgboost as xgb\n",
    "warnings.filterwarnings('ignore')"
   ]
  },
  {
   "cell_type": "code",
   "execution_count": 4,
   "metadata": {},
   "outputs": [
    {
     "name": "stdout",
     "output_type": "stream",
     "text": [
      "[03:12:25] WARNING: C:\\Windows\\Temp\\abs_557yfx631l\\croots\\recipe\\xgboost-split_1659548953302\\work\\src\\learner.cc:854: Loading model from XGBoost < 1.0.0, consider saving it again for improved compatibility\n"
     ]
    }
   ],
   "source": [
    "bst = xgb.Booster({'nthread': 4})\n",
    "bst.load_model('XB.model')"
   ]
  },
  {
   "cell_type": "code",
   "execution_count": 17,
   "metadata": {},
   "outputs": [],
   "source": [
    "labels = [\"rice\",\"maize\",\"jute\",\"cotton\",\"coconut\",\"papaya\",\"orange\",\"apple\",\"muskmelon\",\"watermelon\",\"grapes\",\"mango\",\"banana\",\"pomegranate\",\"lentil\",\"blackgram\",\"mungbean\",\"mothbeans\",\"pigeonpeas\",\"kidneybeans\",\"chickpea\",\"coffee\"]"
   ]
  },
  {
   "cell_type": "code",
   "execution_count": 25,
   "metadata": {},
   "outputs": [],
   "source": [
    "labels = [\"apple\",\"banana\",\"blackgram\",\"chickpea\",\"coconut\",\"coffee\",\"cotton\",\"grapes\",\"jute\",\"kidneybeans\",\"lentil\",\"maize\",\"mango\",\"mothbeans\",\"mungbean\",\"muskmelon\",\"orange\",\"papaya\",\"pigeonpeas\",\"pomegranate\",\"rice\",\"watermelon\"]"
   ]
  },
  {
   "cell_type": "code",
   "execution_count": 30,
   "metadata": {},
   "outputs": [
    {
     "name": "stdout",
     "output_type": "stream",
     "text": [
      "rice\n",
      "[[1.03845799e-04 2.16491448e-04 7.82476927e-05 1.14961178e-04\n",
      "  1.15812793e-04 3.01644584e-04 9.75350267e-05 1.12863920e-04\n",
      "  8.03152565e-04 9.76361844e-05 9.54623538e-05 1.84600663e-04\n",
      "  9.48973102e-05 1.08388325e-04 1.06318672e-04 1.37204624e-04\n",
      "  1.16701864e-04 9.95702430e-05 8.14220984e-05 1.46818435e-04\n",
      "  9.96659279e-01 1.27175692e-04]]\n"
     ]
    }
   ],
   "source": [
    "# data = np.array([[104,18, 30, 23.603016, 60.3, 6.7, 140.91]])\n",
    "data = np.array([[90, 42 ,43 ,20.87,82.00,6.50,202.93]])\n",
    "# data = np.array([[83, 45, 60, 28, 70.3, 7.0, 150.9]])\n",
    "label = np.random.randint(22, size=1)  # binary target\n",
    "dtrain = xgb.DMatrix(data, label=label)\n",
    "prediction = bst.predict(dtrain)\n",
    "print(labels[np.argmax(prediction[0])])\n",
    "\n",
    "# data = np.array([[83, 45, 60, 28, 70.3, 7.0, 150.9]])\n",
    "# prediction = bst.predict(data)\n",
    "print(prediction)\n",
    "# \n",
    "# labels = [\"apple\",\"banana\",\"blackgram\",\"chickpea\",\"coconut\",\"coffee\",\"cotton\",\"grapes\",\"jute\",\"kidneybeans\",\"lentil\",\"maize\",\"mango\",\"mothbeans\",\"mungbean\",\"muskmelon\",\"orange\",\"papaya\",\"pigeonpeas\",\"pomegranate\",\"rice\",\"watermelon\"]"
   ]
  }
 ],
 "metadata": {
  "kernelspec": {
   "display_name": "Python 3.9.12 ('base')",
   "language": "python",
   "name": "python3"
  },
  "language_info": {
   "codemirror_mode": {
    "name": "ipython",
    "version": 3
   },
   "file_extension": ".py",
   "mimetype": "text/x-python",
   "name": "python",
   "nbconvert_exporter": "python",
   "pygments_lexer": "ipython3",
   "version": "3.9.12"
  },
  "orig_nbformat": 4,
  "vscode": {
   "interpreter": {
    "hash": "ad2bdc8ecc057115af97d19610ffacc2b4e99fae6737bb82f5d7fb13d2f2c186"
   }
  }
 },
 "nbformat": 4,
 "nbformat_minor": 2
}
